{
  "nbformat": 4,
  "nbformat_minor": 0,
  "metadata": {
    "colab": {
      "name": "Copy of TASK 3.ipynb",
      "provenance": [],
      "include_colab_link": true
    },
    "kernelspec": {
      "name": "python3",
      "display_name": "Python 3"
    },
    "language_info": {
      "name": "python"
    }
  },
  "cells": [
    {
      "cell_type": "markdown",
      "metadata": {
        "id": "view-in-github",
        "colab_type": "text"
      },
      "source": [
        "<a href=\"https://colab.research.google.com/github/abijithnv/Learn.py/blob/main/TASK_3.ipynb\" target=\"_parent\"><img src=\"https://colab.research.google.com/assets/colab-badge.svg\" alt=\"Open In Colab\"/></a>"
      ]
    },
    {
      "cell_type": "markdown",
      "metadata": {
        "id": "z20IIB0eUQMN"
      },
      "source": [
        "1 - Write a program which takes a number as input from the user and check whether the number is odd or even.If odd print the number is odd if not print it is even."
      ]
    },
    {
      "cell_type": "code",
      "metadata": {
        "id": "dVgGJ-wTVRit",
        "colab": {
          "base_uri": "https://localhost:8080/"
        },
        "outputId": "6e96895c-3f53-4374-c5e8-e39fb64f1481"
      },
      "source": [
        "num=int(input(\"Enter a number:\"))\n",
        "if ((num%2)==0):\n",
        "  print(\"The given number\",num,\"is even\")\n",
        "else:\n",
        "  print(\"The given number\",num,\"is odd\")"
      ],
      "execution_count": null,
      "outputs": [
        {
          "output_type": "stream",
          "text": [
            "Enter a number:7\n",
            "The given number 7 is odd\n"
          ],
          "name": "stdout"
        }
      ]
    },
    {
      "cell_type": "markdown",
      "metadata": {
        "id": "7778XD8PVblj"
      },
      "source": [
        "2 -Write a program to find the largest among three numbers and print the largest number."
      ]
    },
    {
      "cell_type": "code",
      "metadata": {
        "id": "m0tUOkOFWR-d",
        "colab": {
          "base_uri": "https://localhost:8080/"
        },
        "outputId": "013c6306-5160-4b87-c6d7-6004663dc0f4"
      },
      "source": [
        "a=int(input(\"Enter first number:\"))\n",
        "b=int(input(\"Enter Second number:\"))\n",
        "c=int(input(\"Enter third number:\"))\n",
        "if(a>b):\n",
        "  print(\"largest is\",a)\n",
        "elif(b>c):\n",
        "  print(\"largest is\",b)\n",
        "else:\n",
        "  print(\"largest is\",c)"
      ],
      "execution_count": null,
      "outputs": [
        {
          "output_type": "stream",
          "text": [
            "Enter first number:21\n",
            "Enter Second number:87\n",
            "Enter third number:9\n",
            "largest is 87\n"
          ],
          "name": "stdout"
        }
      ]
    },
    {
      "cell_type": "markdown",
      "metadata": {
        "id": "Jg2Ns4OQWaJy"
      },
      "source": [
        "3 -Write a function to prompt for a score between 0.0 and 1.0.\n",
        "\n",
        "    If the score is out of range, print an error.\n",
        "    If the score is between 0.0 and 1.0, print a grade using the following table:\n",
        "    Score Grade\n",
        "             Score\tGrade\n",
        "            >= 0.9\tA\n",
        "            >= 0.8\tB\n",
        "            >= 0.7\tC\n",
        "            >= 0.6\tD\n",
        "             < 0.6\tF\n",
        "If the user enters a value out of range, print a suitable error message and exit. For the test, enter a score of 0.85."
      ]
    },
    {
      "cell_type": "code",
      "metadata": {
        "id": "6DLbGe6XXZPx",
        "colab": {
          "base_uri": "https://localhost:8080/"
        },
        "outputId": "3d49f188-56e6-4638-bc33-5168f93ac168"
      },
      "source": [
        "n=float(input(\"Enter the number \"))\n",
        "if((n>=0.0) and (n<=1.0)):\n",
        "    if(n<0.6):\n",
        "        print(\"Grade is F\")\n",
        "    elif(n>=0.9):\n",
        "        print(\"Grade is A\")\n",
        "    elif(n>=0.8):\n",
        "        print(\"Grade is B\")\n",
        "    elif(n>=0.7):\n",
        "        print(\"Grade is C\")\n",
        "    else:\n",
        "        print(\"Grade is D\")\n",
        "else:\n",
        "    print(\"PLEASE ENTER A VALID NUMBER!!!\")"
      ],
      "execution_count": null,
      "outputs": [
        {
          "output_type": "stream",
          "text": [
            "Enter the number 0.85\n",
            "Grade is B\n"
          ],
          "name": "stdout"
        }
      ]
    },
    {
      "cell_type": "markdown",
      "metadata": {
        "id": "-o0scDq7WkVT"
      },
      "source": [
        ""
      ]
    }
  ]
}