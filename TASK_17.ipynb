{
  "nbformat": 4,
  "nbformat_minor": 0,
  "metadata": {
    "colab": {
      "name": "Copy of TASK 17.ipynb",
      "provenance": [],
      "include_colab_link": true
    },
    "kernelspec": {
      "name": "python3",
      "display_name": "Python 3"
    },
    "language_info": {
      "name": "python"
    }
  },
  "cells": [
    {
      "cell_type": "markdown",
      "metadata": {
        "id": "view-in-github",
        "colab_type": "text"
      },
      "source": [
        "<a href=\"https://colab.research.google.com/github/abijithnv/Learn.py/blob/main/TASK_17.ipynb\" target=\"_parent\"><img src=\"https://colab.research.google.com/assets/colab-badge.svg\" alt=\"Open In Colab\"/></a>"
      ]
    },
    {
      "cell_type": "markdown",
      "metadata": {
        "id": "0SLapvpoaeYY"
      },
      "source": [
        "1. Create a DataFrame by passing a random numpy array,with a datetie index and labelled columns.and display its,\n",
        "     - Head\n",
        "     - Tail\n",
        "     - Index \n",
        "     - Columns\n",
        "     - Values\n",
        "     - statistics\n"
      ]
    },
    {
      "cell_type": "code",
      "metadata": {
        "id": "zJDkjyVxa5yU",
        "colab": {
          "base_uri": "https://localhost:8080/"
        },
        "outputId": "acd6b2f6-9176-4f30-d8fe-57d0f1d1bda0"
      },
      "source": [
        " \n",
        "import numpy as np\n",
        "import pandas as pd\n",
        "datetie = pd.date_range('2021-08-24',periods=4)\n",
        "df = pd.DataFrame(np.random.randn(4,4), index=datetie, columns=list('ABCD'))\n",
        "print(\"Head:\\n\", df.head())\n",
        "print(\"Tail:\\n\", df.tail())\n",
        "print(\"Index:\\n\", df.index)\n",
        "print(\"Columns:\\n\", df.columns)\n",
        "print(\"Values:\\n\", df.values)\n",
        "print(\"Statistics:\\n\", df.describe(include='all'))"
      ],
      "execution_count": null,
      "outputs": [
        {
          "output_type": "stream",
          "name": "stdout",
          "text": [
            "Head:\n",
            "                    A         B         C         D\n",
            "2021-08-24 -0.051121 -1.402887 -0.977190 -0.935997\n",
            "2021-08-25 -0.282484 -1.027398  0.481119  0.619815\n",
            "2021-08-26  0.473914 -0.213784 -1.932727  1.015354\n",
            "2021-08-27  1.629444  1.342472 -0.125122 -0.157583\n",
            "Tail:\n",
            "                    A         B         C         D\n",
            "2021-08-24 -0.051121 -1.402887 -0.977190 -0.935997\n",
            "2021-08-25 -0.282484 -1.027398  0.481119  0.619815\n",
            "2021-08-26  0.473914 -0.213784 -1.932727  1.015354\n",
            "2021-08-27  1.629444  1.342472 -0.125122 -0.157583\n",
            "Index:\n",
            " DatetimeIndex(['2021-08-24', '2021-08-25', '2021-08-26', '2021-08-27'], dtype='datetime64[ns]', freq='D')\n",
            "Columns:\n",
            " Index(['A', 'B', 'C', 'D'], dtype='object')\n",
            "Values:\n",
            " [[-0.05112089 -1.40288662 -0.9771904  -0.93599726]\n",
            " [-0.28248436 -1.02739762  0.48111899  0.6198148 ]\n",
            " [ 0.47391362 -0.21378396 -1.93272724  1.01535396]\n",
            " [ 1.62944391  1.34247176 -0.12512162 -0.15758254]]\n",
            "Statistics:\n",
            "               A         B         C         D\n",
            "count  4.000000  4.000000  4.000000  4.000000\n",
            "mean   0.442438 -0.325399 -0.638480  0.135397\n",
            "std    0.852269  1.217652  1.049895  0.864621\n",
            "min   -0.282484 -1.402887 -1.932727 -0.935997\n",
            "25%   -0.108962 -1.121270 -1.216075 -0.352186\n",
            "50%    0.211396 -0.620591 -0.551156  0.231116\n",
            "75%    0.762796  0.175280  0.026439  0.718700\n",
            "max    1.629444  1.342472  0.481119  1.015354\n"
          ]
        }
      ]
    },
    {
      "cell_type": "markdown",
      "metadata": {
        "id": "xnkA2mKDdyoO"
      },
      "source": [
        "2. Use the above table and,\n",
        "      - find transpose of your data.\n",
        "      - sort the index in the descending order of the date."
      ]
    },
    {
      "cell_type": "code",
      "metadata": {
        "id": "uqcQSEOufJ5P",
        "colab": {
          "base_uri": "https://localhost:8080/"
        },
        "outputId": "b2e684a8-8a34-42fe-f46b-a0a42aa456bc"
      },
      "source": [
        "print(\"Transpose\\n\", df.transpose())\n",
        "print(\"Sorted in Descending Order\\n\", df.sort_index(ascending=False))"
      ],
      "execution_count": null,
      "outputs": [
        {
          "output_type": "stream",
          "name": "stdout",
          "text": [
            "Transpose\n",
            "    2021-08-24  2021-08-25  2021-08-26  2021-08-27\n",
            "A   -0.051121   -0.282484    0.473914    1.629444\n",
            "B   -1.402887   -1.027398   -0.213784    1.342472\n",
            "C   -0.977190    0.481119   -1.932727   -0.125122\n",
            "D   -0.935997    0.619815    1.015354   -0.157583\n",
            "Sorted in Descending Order\n",
            "                    A         B         C         D\n",
            "2021-08-27  1.629444  1.342472 -0.125122 -0.157583\n",
            "2021-08-26  0.473914 -0.213784 -1.932727  1.015354\n",
            "2021-08-25 -0.282484 -1.027398  0.481119  0.619815\n",
            "2021-08-24 -0.051121 -1.402887 -0.977190 -0.935997\n"
          ]
        }
      ]
    },
    {
      "cell_type": "markdown",
      "metadata": {
        "id": "ss7s_8iDbAcL"
      },
      "source": [
        ""
      ]
    }
  ]
}