{
  "nbformat": 4,
  "nbformat_minor": 0,
  "metadata": {
    "colab": {
      "name": "Copy of TASK 8.ipynb",
      "provenance": [],
      "include_colab_link": true
    },
    "kernelspec": {
      "name": "python3",
      "display_name": "Python 3"
    },
    "language_info": {
      "name": "python"
    }
  },
  "cells": [
    {
      "cell_type": "markdown",
      "metadata": {
        "id": "view-in-github",
        "colab_type": "text"
      },
      "source": [
        "<a href=\"https://colab.research.google.com/github/abijithnv/Learn.py/blob/main/TASK_8.ipynb\" target=\"_parent\"><img src=\"https://colab.research.google.com/assets/colab-badge.svg\" alt=\"Open In Colab\"/></a>"
      ]
    },
    {
      "cell_type": "markdown",
      "metadata": {
        "id": "slsGswYbJSo7"
      },
      "source": [
        "1. Generate a 3 x 3 matrix using random module."
      ]
    },
    {
      "cell_type": "code",
      "metadata": {
        "id": "GGRQSYyNJW9t",
        "colab": {
          "base_uri": "https://localhost:8080/"
        },
        "outputId": "674aa44b-d1a2-4148-dfba-648d73d8db75"
      },
      "source": [
        "import numpy as np\n",
        "import random\n",
        " \n",
        "matrix=np.random.randint(100,size=(3,3))\n",
        "print(matrix)"
      ],
      "execution_count": null,
      "outputs": [
        {
          "output_type": "stream",
          "text": [
            "[[94 49 28]\n",
            " [ 7  9 10]\n",
            " [74 20 70]]\n"
          ],
          "name": "stdout"
        }
      ]
    },
    {
      "cell_type": "markdown",
      "metadata": {
        "id": "4OB9KFX6JfYA"
      },
      "source": [
        "2. Generate two 4 x 4 matrix using numpy and \n",
        "\n",
        " a) Reshape it to 2 x 8matrix and vertically stack it.\n",
        "\n",
        " b) Reshape it to 2 x 8 matrix and horizontally stack it."
      ]
    },
    {
      "cell_type": "code",
      "metadata": {
        "id": "VoIqYeNWJ4H_",
        "colab": {
          "base_uri": "https://localhost:8080/"
        },
        "outputId": "ac571788-8d44-460c-886d-305be35953d0"
      },
      "source": [
        "import numpy as np\n",
        "import random\n",
        " \n",
        "array=np.random.randint(100,size=(4,4))\n",
        "print(\"4x4 matrix :\"\"\\n\", array)\n",
        "newarr=array.reshape(2,8)\n",
        "print(\"2x8 matrix :\"\"\\n\",newarr)\n",
        " \n",
        "ve=np.vstack(newarr)\n",
        "ho=np.hstack(newarr)\n",
        "print(\"vertical Stack:\"\"\\n\",ve)\n",
        "print(\"horizontal Stack:\"\"\\n\",ho)"
      ],
      "execution_count": null,
      "outputs": [
        {
          "output_type": "stream",
          "text": [
            "4x4 matrix :\n",
            " [[10 95 18  9]\n",
            " [12 26 86 69]\n",
            " [77 53 57 92]\n",
            " [86 84 78 70]]\n",
            "2x8 matrix :\n",
            " [[10 95 18  9 12 26 86 69]\n",
            " [77 53 57 92 86 84 78 70]]\n",
            "vertical Stack:\n",
            " [[10 95 18  9 12 26 86 69]\n",
            " [77 53 57 92 86 84 78 70]]\n",
            "horizontal Stack:\n",
            " [10 95 18  9 12 26 86 69 77 53 57 92 86 84 78 70]\n"
          ],
          "name": "stdout"
        }
      ]
    }
  ]
}