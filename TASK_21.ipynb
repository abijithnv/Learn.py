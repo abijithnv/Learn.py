{
  "nbformat": 4,
  "nbformat_minor": 0,
  "metadata": {
    "colab": {
      "name": "TASK 21.ipynb",
      "provenance": [],
      "include_colab_link": true
    },
    "kernelspec": {
      "name": "python3",
      "display_name": "Python 3"
    },
    "language_info": {
      "name": "python"
    }
  },
  "cells": [
    {
      "cell_type": "markdown",
      "metadata": {
        "id": "view-in-github",
        "colab_type": "text"
      },
      "source": [
        "<a href=\"https://colab.research.google.com/github/abijithnv/Learn.py/blob/main/TASK_21.ipynb\" target=\"_parent\"><img src=\"https://colab.research.google.com/assets/colab-badge.svg\" alt=\"Open In Colab\"/></a>"
      ]
    },
    {
      "cell_type": "markdown",
      "metadata": {
        "id": "wK9sv7fHTnyo"
      },
      "source": [
        "1.  Using the dataset given below,\n",
        "  - Group the given dataset by A and find the sum of the groups.\n",
        "  - Find the 3 least elements from the column D\n",
        "  - Find the 3 largest elements from the Column D which belongs to the group\n",
        "  'bar'."
      ]
    },
    {
      "cell_type": "code",
      "metadata": {
        "id": "C_Kq4i_rVNyB",
        "colab": {
          "base_uri": "https://localhost:8080/"
        },
        "outputId": "b875d886-ff83-49c6-8917-b4c1c66ea0c3"
      },
      "source": [
        "import pandas as pd\n",
        "import numpy as np\n",
        "df = pd.DataFrame({'A' : ['foo', 'bar', 'foo', 'bar',\n",
        "                          'foo', 'bar', 'foo', 'foo'],\n",
        "                   'B' : ['one', 'one', 'two', 'three',\n",
        "                          'two', 'two', 'one', 'three'],\n",
        "                   'C' : np.random.randn(8),\n",
        "                   'D' : np.random.randn(8)})\n",
        "df\n",
        "#please type your code below this line.\n",
        "group = df.groupby('A')\n",
        "print(\"sum of the groups:\\n\",group.sum())\n",
        "print(\"3 least elements from the column D:\\n\",df['D'].nsmallest(3))\n",
        "print(\"3 largest elements from the Column D which belongs to the group 'bar':\\n\",group['D'].get_group('bar').nlargest(3))"
      ],
      "execution_count": 1,
      "outputs": [
        {
          "output_type": "stream",
          "name": "stdout",
          "text": [
            "sum of the groups:\n",
            "             C         D\n",
            "A                      \n",
            "bar  0.536414  0.345011\n",
            "foo  0.318704 -0.115215\n",
            "3 least elements from the column D:\n",
            " 7   -1.268327\n",
            "5   -1.057603\n",
            "0   -0.926360\n",
            "Name: D, dtype: float64\n",
            "3 largest elements from the Column D which belongs to the group 'bar':\n",
            " 1    1.508276\n",
            "3   -0.105663\n",
            "5   -1.057603\n",
            "Name: D, dtype: float64\n"
          ]
        }
      ]
    },
    {
      "cell_type": "markdown",
      "metadata": {
        "id": "68XLHGsrdHXb"
      },
      "source": [
        "2. Using the dataset given below,\n",
        "  - convert the dataset into a csv file.\n",
        "  - read the csv file just saved\n",
        "  - covert the dataset into a excel file.\n",
        "  - read the excel file just saved."
      ]
    },
    {
      "cell_type": "code",
      "metadata": {
        "id": "J4BOx3UZdVLV",
        "colab": {
          "base_uri": "https://localhost:8080/"
        },
        "outputId": "df302060-5fc8-4c5d-f541-0cc69d179655"
      },
      "source": [
        "import pandas as pd\n",
        "import numpy as np\n",
        "df = pd.DataFrame({'A' : ['foo', 'bar', 'foo', 'bar',\n",
        "                          'foo', 'bar', 'foo', 'foo'],\n",
        "                   'B' : ['one', 'one', 'two', 'three',\n",
        "                          'two', 'two', 'one', 'three'],\n",
        "                   'C' : np.random.randn(8),\n",
        "                   'D' : np.random.randn(8)})\n",
        "#please type your code below this line.\n",
        "print(df)\n",
        "df.to_csv('csvFile.csv')\n",
        "print(\"CSS FILE:\\n\", pd.read_csv('csvFile.csv'))\n",
        "df.to_excel('excelFile.xlsx')\n",
        "print(\"EXCEL FILE:\\n\",pd.read_excel('excelFile.xlsx'))"
      ],
      "execution_count": 2,
      "outputs": [
        {
          "output_type": "stream",
          "name": "stdout",
          "text": [
            "     A      B         C         D\n",
            "0  foo    one -0.515623 -0.375606\n",
            "1  bar    one -1.365159 -0.093796\n",
            "2  foo    two -0.051151 -0.254690\n",
            "3  bar  three  0.313806 -0.589598\n",
            "4  foo    two -0.468687  0.740962\n",
            "5  bar    two -1.496204  0.242215\n",
            "6  foo    one  1.321665 -0.439194\n",
            "7  foo  three  2.106375  1.535819\n",
            "CSS FILE:\n",
            "    Unnamed: 0    A      B         C         D\n",
            "0           0  foo    one -0.515623 -0.375606\n",
            "1           1  bar    one -1.365159 -0.093796\n",
            "2           2  foo    two -0.051151 -0.254690\n",
            "3           3  bar  three  0.313806 -0.589598\n",
            "4           4  foo    two -0.468687  0.740962\n",
            "5           5  bar    two -1.496204  0.242215\n",
            "6           6  foo    one  1.321665 -0.439194\n",
            "7           7  foo  three  2.106375  1.535819\n",
            "EXCEL FILE:\n",
            "    Unnamed: 0    A      B         C         D\n",
            "0           0  foo    one -0.515623 -0.375606\n",
            "1           1  bar    one -1.365159 -0.093796\n",
            "2           2  foo    two -0.051151 -0.254690\n",
            "3           3  bar  three  0.313806 -0.589598\n",
            "4           4  foo    two -0.468687  0.740962\n",
            "5           5  bar    two -1.496204  0.242215\n",
            "6           6  foo    one  1.321665 -0.439194\n",
            "7           7  foo  three  2.106375  1.535819\n"
          ]
        }
      ]
    }
  ]
}