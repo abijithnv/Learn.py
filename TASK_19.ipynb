{
  "nbformat": 4,
  "nbformat_minor": 0,
  "metadata": {
    "colab": {
      "name": "TASK 19.ipynb",
      "provenance": [],
      "include_colab_link": true
    },
    "kernelspec": {
      "name": "python3",
      "display_name": "Python 3"
    },
    "language_info": {
      "name": "python"
    }
  },
  "cells": [
    {
      "cell_type": "markdown",
      "metadata": {
        "id": "view-in-github",
        "colab_type": "text"
      },
      "source": [
        "<a href=\"https://colab.research.google.com/github/abijithnv/Learn.py/blob/main/TASK_19.ipynb\" target=\"_parent\"><img src=\"https://colab.research.google.com/assets/colab-badge.svg\" alt=\"Open In Colab\"/></a>"
      ]
    },
    {
      "cell_type": "markdown",
      "metadata": {
        "id": "6J-6GvX2JUcC"
      },
      "source": [
        "1. Create a DataFrame by passing a random numpy array,with a dateted index and labelled columns and display,\n",
        "  - where values of the column A is greater than 0.\n",
        "  - where values of the columns A is greater than 0 and B greater than -1.\n",
        "  - where values of the columns A  is greater than 0 or B greater than -1.\n"
      ]
    },
    {
      "cell_type": "code",
      "metadata": {
        "id": "xX-5VikpLcHL",
        "colab": {
          "base_uri": "https://localhost:8080/"
        },
        "outputId": "31bcb646-2215-4df9-fd32-561d07796c96"
      },
      "source": [
        " import numpy as np\n",
        "import pandas as pd\n",
        "datetie = pd.date_range('2021-08-24',periods=8)\n",
        "df = pd.DataFrame(np.random.randn(8,6), index=datetie, columns=list('ABCDEF'))\n",
        "print(df)\n",
        "print(\"\\nValues of the column A is greater than 0:\\n\",df[df['A']>0])\n",
        "print(\"\\nValues of the columns A is greater than 0 and B greater than -1:\\n\",df[(df['A']>0) & (df['B']>-1)])\n",
        "print(\"\\nValues of the columns A is greater than 0 or B greater than -1:\\n\",df[(df['A']>0) | (df['B']>-1)])"
      ],
      "execution_count": 1,
      "outputs": [
        {
          "output_type": "stream",
          "name": "stdout",
          "text": [
            "                   A         B         C         D         E         F\n",
            "2021-08-24 -0.687351  1.754453  1.388352  0.539831 -0.432942 -1.299471\n",
            "2021-08-25  0.164042 -0.087441  2.354665 -0.498373  0.251932  1.127951\n",
            "2021-08-26  0.214964  0.480043 -1.086448 -1.497274 -0.791179 -0.733685\n",
            "2021-08-27 -1.154836 -0.959003  0.191552 -0.609931 -1.559090 -0.296645\n",
            "2021-08-28  0.107182  1.886010 -0.600174  2.206002  0.285080 -2.463832\n",
            "2021-08-29 -0.249408 -0.139656  1.939198  0.925293  0.129953  0.076968\n",
            "2021-08-30 -1.069100 -0.782796 -1.066615  0.898558 -0.008467  0.300598\n",
            "2021-08-31  0.092412 -0.836898 -0.208925 -0.293995 -0.159510  0.409622\n",
            "\n",
            "Values of the column A is greater than 0:\n",
            "                    A         B         C         D         E         F\n",
            "2021-08-25  0.164042 -0.087441  2.354665 -0.498373  0.251932  1.127951\n",
            "2021-08-26  0.214964  0.480043 -1.086448 -1.497274 -0.791179 -0.733685\n",
            "2021-08-28  0.107182  1.886010 -0.600174  2.206002  0.285080 -2.463832\n",
            "2021-08-31  0.092412 -0.836898 -0.208925 -0.293995 -0.159510  0.409622\n",
            "\n",
            "Values of the columns A is greater than 0 and B greater than -1:\n",
            "                    A         B         C         D         E         F\n",
            "2021-08-25  0.164042 -0.087441  2.354665 -0.498373  0.251932  1.127951\n",
            "2021-08-26  0.214964  0.480043 -1.086448 -1.497274 -0.791179 -0.733685\n",
            "2021-08-28  0.107182  1.886010 -0.600174  2.206002  0.285080 -2.463832\n",
            "2021-08-31  0.092412 -0.836898 -0.208925 -0.293995 -0.159510  0.409622\n",
            "\n",
            "Values of the columns A is greater than 0 or B greater than -1:\n",
            "                    A         B         C         D         E         F\n",
            "2021-08-24 -0.687351  1.754453  1.388352  0.539831 -0.432942 -1.299471\n",
            "2021-08-25  0.164042 -0.087441  2.354665 -0.498373  0.251932  1.127951\n",
            "2021-08-26  0.214964  0.480043 -1.086448 -1.497274 -0.791179 -0.733685\n",
            "2021-08-27 -1.154836 -0.959003  0.191552 -0.609931 -1.559090 -0.296645\n",
            "2021-08-28  0.107182  1.886010 -0.600174  2.206002  0.285080 -2.463832\n",
            "2021-08-29 -0.249408 -0.139656  1.939198  0.925293  0.129953  0.076968\n",
            "2021-08-30 -1.069100 -0.782796 -1.066615  0.898558 -0.008467  0.300598\n",
            "2021-08-31  0.092412 -0.836898 -0.208925 -0.293995 -0.159510  0.409622\n"
          ]
        }
      ]
    },
    {
      "cell_type": "markdown",
      "metadata": {
        "id": "1WAf9SbwLp6o"
      },
      "source": [
        "2. Create a DataFrame by passing a random numpy array,with a dateted index and labelled columns and check if ,\n",
        "  - the values of the table are greater the zero or not.\n",
        "  - the value at the postion (0,0) is equal to NaN or not."
      ]
    },
    {
      "cell_type": "code",
      "metadata": {
        "id": "rBrt8pMeM2Q5",
        "colab": {
          "base_uri": "https://localhost:8080/"
        },
        "outputId": "96879a07-567b-4db7-f412-f90f9cb3f706"
      },
      "source": [
        "import numpy as np\n",
        "import pandas as pd\n",
        "datetie = pd.date_range('2021-08-24',periods=8)\n",
        "df = pd.DataFrame(np.random.randn(8,6), index=datetie, columns=list('ABCDEF'))\n",
        "print(df)\n",
        "print(\"\\nValues greater the zero or not:\\n\",df>0)\n",
        "print(\"\\nValue at the postion (0,0) is equal to NaN or not:\\n\",df.iloc[[0],[0]] == 'NaN')"
      ],
      "execution_count": 2,
      "outputs": [
        {
          "output_type": "stream",
          "name": "stdout",
          "text": [
            "                   A         B         C         D         E         F\n",
            "2021-08-24  0.327134  0.396631  0.838445  0.490908 -0.100421  0.412530\n",
            "2021-08-25  0.208010 -0.279204  1.088924  0.624422 -1.734360  0.594190\n",
            "2021-08-26  0.768315  2.225659 -0.148628 -0.597528 -1.188659  0.153697\n",
            "2021-08-27  0.447655  0.857628  0.532203 -0.495905 -1.934676 -0.776663\n",
            "2021-08-28  0.264155 -0.394087  0.046747  1.827517  1.257112 -0.468226\n",
            "2021-08-29  0.284641 -0.673496 -0.823467  1.205529 -0.301212 -2.376270\n",
            "2021-08-30  0.121101 -0.978686  0.872169 -1.464113  0.312260  0.040880\n",
            "2021-08-31  1.617618 -0.837157 -0.530005  0.315931 -0.048703  1.227350\n",
            "\n",
            "Values greater the zero or not:\n",
            "                A      B      C      D      E      F\n",
            "2021-08-24  True   True   True   True  False   True\n",
            "2021-08-25  True  False   True   True  False   True\n",
            "2021-08-26  True   True  False  False  False   True\n",
            "2021-08-27  True   True   True  False  False  False\n",
            "2021-08-28  True  False   True   True   True  False\n",
            "2021-08-29  True  False  False   True  False  False\n",
            "2021-08-30  True  False   True  False   True   True\n",
            "2021-08-31  True  False  False   True  False   True\n",
            "\n",
            "Value at the postion (0,0) is equal to NaN or not:\n",
            "                 A\n",
            "2021-08-24  False\n"
          ]
        }
      ]
    },
    {
      "cell_type": "markdown",
      "metadata": {
        "id": "IfM9XYmiNaKB"
      },
      "source": [
        "3. Create a DataFrame by passing a random numpy array,with a dateted index and labelled columns and,\n",
        "  - reindex the index with even dates.\n",
        "  - create a column with values NaN.\n",
        "  - make the values of the first two index of the newly created column as 1"
      ]
    },
    {
      "cell_type": "code",
      "metadata": {
        "id": "F-w8kEfaORg3",
        "colab": {
          "base_uri": "https://localhost:8080/"
        },
        "outputId": "9912ece6-58f7-4f3e-cd3e-aeb82fd3309e"
      },
      "source": [
        " import numpy as np\n",
        "import pandas as pd\n",
        "datetie = pd.date_range('2021-08-24',periods=8)\n",
        "df = pd.DataFrame(np.random.randn(8,6), index=datetie, columns=list('ABCDEF'))\n",
        "print(df)\n",
        "df1 = df.reindex(df.index[0::2])\n",
        "print(\"\\nIndex with even dates:\\n\",df1)\n",
        "df1['G'] = 'NaN'\n",
        "print(\"\\nNew column with values NaN:\\n\",df1)\n",
        "df1.loc[df1.index[:2],'G'] = 1\n",
        "print(\"\\nFirst two index of the newly created column as 1:\\n\",df1)"
      ],
      "execution_count": 3,
      "outputs": [
        {
          "output_type": "stream",
          "name": "stdout",
          "text": [
            "                   A         B         C         D         E         F\n",
            "2021-08-24 -0.044740  2.122945 -0.710982  0.898846  0.319538  1.328612\n",
            "2021-08-25 -0.918938 -1.094446 -1.194690 -0.164178  0.703719 -1.328633\n",
            "2021-08-26 -0.313597 -0.059756 -0.559952  0.940408 -0.397723  0.183445\n",
            "2021-08-27  1.179435 -0.770049  0.868480  0.954792 -0.439317  0.837540\n",
            "2021-08-28 -1.971261  0.548657  1.070041  1.253660  1.086307  2.333095\n",
            "2021-08-29  0.924962 -0.850938 -1.743446 -0.902067 -0.468909  0.654532\n",
            "2021-08-30  0.277328 -0.078684 -0.442367 -0.017857 -0.117741 -0.803754\n",
            "2021-08-31  0.476051 -1.071644 -0.310788 -0.154766  1.221412 -0.202366\n",
            "\n",
            "Index with even dates:\n",
            "                    A         B         C         D         E         F\n",
            "2021-08-24 -0.044740  2.122945 -0.710982  0.898846  0.319538  1.328612\n",
            "2021-08-26 -0.313597 -0.059756 -0.559952  0.940408 -0.397723  0.183445\n",
            "2021-08-28 -1.971261  0.548657  1.070041  1.253660  1.086307  2.333095\n",
            "2021-08-30  0.277328 -0.078684 -0.442367 -0.017857 -0.117741 -0.803754\n",
            "\n",
            "New column with values NaN:\n",
            "                    A         B         C         D         E         F    G\n",
            "2021-08-24 -0.044740  2.122945 -0.710982  0.898846  0.319538  1.328612  NaN\n",
            "2021-08-26 -0.313597 -0.059756 -0.559952  0.940408 -0.397723  0.183445  NaN\n",
            "2021-08-28 -1.971261  0.548657  1.070041  1.253660  1.086307  2.333095  NaN\n",
            "2021-08-30  0.277328 -0.078684 -0.442367 -0.017857 -0.117741 -0.803754  NaN\n",
            "\n",
            "First two index of the newly created column as 1:\n",
            "                    A         B         C         D         E         F    G\n",
            "2021-08-24 -0.044740  2.122945 -0.710982  0.898846  0.319538  1.328612    1\n",
            "2021-08-26 -0.313597 -0.059756 -0.559952  0.940408 -0.397723  0.183445    1\n",
            "2021-08-28 -1.971261  0.548657  1.070041  1.253660  1.086307  2.333095  NaN\n",
            "2021-08-30  0.277328 -0.078684 -0.442367 -0.017857 -0.117741 -0.803754  NaN\n"
          ]
        }
      ]
    }
  ]
}