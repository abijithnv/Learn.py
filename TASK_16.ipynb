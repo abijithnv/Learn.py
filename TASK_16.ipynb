{
  "nbformat": 4,
  "nbformat_minor": 0,
  "metadata": {
    "colab": {
      "name": "Copy of TASK 16.ipynb",
      "provenance": [],
      "include_colab_link": true
    },
    "kernelspec": {
      "name": "python3",
      "display_name": "Python 3"
    },
    "language_info": {
      "name": "python"
    }
  },
  "cells": [
    {
      "cell_type": "markdown",
      "metadata": {
        "id": "view-in-github",
        "colab_type": "text"
      },
      "source": [
        "<a href=\"https://colab.research.google.com/github/abijithnv/Learn.py/blob/main/TASK_16.ipynb\" target=\"_parent\"><img src=\"https://colab.research.google.com/assets/colab-badge.svg\" alt=\"Open In Colab\"/></a>"
      ]
    },
    {
      "cell_type": "markdown",
      "metadata": {
        "id": "acyipYglJ670"
      },
      "source": [
        "1. Given index=[\"India\",\"Pakistan\",\"Bangladesh\",\"Srilanka\",\"china\",\"Nepal\"] and data=[1,3,5,np.nan,6,8] . Create a table with the \"index\" as indices and data as values.\n",
        "\n",
        "      Expected output\n",
        "\n",
        "        India         1.0\n",
        "        Pakistan      3.0\n",
        "        Bangladesh    5.0\n",
        "        Srilanka      NaN\n",
        "        China         6.0\n",
        "        Nepal         8.0\n",
        "        Name: myseries, dtype: float64"
      ]
    },
    {
      "cell_type": "code",
      "metadata": {
        "id": "lk5t2eNkKLwL",
        "colab": {
          "base_uri": "https://localhost:8080/"
        },
        "outputId": "7d90b0d2-9851-4d0c-ee35-b4baf918c860"
      },
      "source": [
        " \n",
        "import pandas as pd\n",
        " \n",
        "index=[\"India\",\"Pakistan\",\"Bangladesh\",\"Srilanka\",\"china\",\"Nepal\"]\n",
        "data=[1,3,5,np.nan,6,8] \n",
        "r=pd.DataFrame({'index':index,'myseries':data})\n",
        " \n",
        "r.set_index(\"index\",inplace=True)\n",
        "r.index.name = None\n",
        "r.myseries"
      ],
      "execution_count": null,
      "outputs": [
        {
          "output_type": "execute_result",
          "data": {
            "text/plain": [
              "India         1.0\n",
              "Pakistan      3.0\n",
              "Bangladesh    5.0\n",
              "Srilanka      NaN\n",
              "china         6.0\n",
              "Nepal         8.0\n",
              "Name: myseries, dtype: float64"
            ]
          },
          "metadata": {},
          "execution_count": 24
        }
      ]
    },
    {
      "cell_type": "markdown",
      "metadata": {
        "id": "inxiNv1rLveT"
      },
      "source": [
        "2. Create a data 'dates' starting from 2021-01-01 with range 6. and create a random 6x4 array and a list=('ABCD').now create a dataframe with 'dates' as index and list as the column and data as the datas of this table.\n",
        "\n",
        "\n",
        "  Expected output\n",
        "\n",
        "                        A\t       B\t      C\t      D\n",
        "    2021-01-01\t-0.429358\t0.779826\t0.389625\t0.248792\n",
        "    2021-01-02\t-1.044721\t0.272807\t-0.370437\t1.177273\n",
        "    2021-01-03\t-0.961394\t-0.525376\t0.120843\t0.470060\n",
        "    2021-01-04\t1.842266\t-0.551049\t0.588390\t-0.326937\n",
        "    2021-01-05\t0.986198\t0.391301\t-0.084837\t-0.855573\n",
        "    2021-01-06\t-1.531207\t0.905463\t-0.099024\t0.589219\n",
        "\n"
      ]
    },
    {
      "cell_type": "code",
      "metadata": {
        "id": "TZYBxFJIRYVm",
        "colab": {
          "base_uri": "https://localhost:8080/",
          "height": 391
        },
        "outputId": "b52c21aa-ce7d-46e7-a111-48afca5b9804"
      },
      "source": [
        " \n",
        "import numpy as np \n",
        " \n",
        "import pandas as pd \n",
        " \n",
        "  \n",
        " \n",
        "arr = np.random.rand(24).reshape(6, 4)\n",
        "list=[\"A\",\"B\",\"C\",\"D\"]\n",
        "date=pd.date_range(start=\"2021-01-01\",periods=6)\n",
        " \n",
        "df = pd.DataFrame(arr, columns =list,index=date) \n",
        " \n",
        "print(\"\\nPandas DataFrame: \") \n",
        " \n",
        "df"
      ],
      "execution_count": null,
      "outputs": [
        {
          "output_type": "stream",
          "text": [
            "\n",
            "Pandas DataFrame: \n"
          ],
          "name": "stdout"
        },
        {
          "output_type": "execute_result",
          "data": {
            "text/html": [
              "<div>\n",
              "<style scoped>\n",
              "    .dataframe tbody tr th:only-of-type {\n",
              "        vertical-align: middle;\n",
              "    }\n",
              "\n",
              "    .dataframe tbody tr th {\n",
              "        vertical-align: top;\n",
              "    }\n",
              "\n",
              "    .dataframe thead th {\n",
              "        text-align: right;\n",
              "    }\n",
              "</style>\n",
              "<table border=\"1\" class=\"dataframe\">\n",
              "  <thead>\n",
              "    <tr style=\"text-align: right;\">\n",
              "      <th></th>\n",
              "      <th>A</th>\n",
              "      <th>B</th>\n",
              "      <th>C</th>\n",
              "      <th>D</th>\n",
              "    </tr>\n",
              "  </thead>\n",
              "  <tbody>\n",
              "    <tr>\n",
              "      <th>2021-01-01</th>\n",
              "      <td>0.678475</td>\n",
              "      <td>0.534713</td>\n",
              "      <td>0.043140</td>\n",
              "      <td>0.968187</td>\n",
              "    </tr>\n",
              "    <tr>\n",
              "      <th>2021-01-02</th>\n",
              "      <td>0.286295</td>\n",
              "      <td>0.509440</td>\n",
              "      <td>0.540790</td>\n",
              "      <td>0.654447</td>\n",
              "    </tr>\n",
              "    <tr>\n",
              "      <th>2021-01-03</th>\n",
              "      <td>0.197573</td>\n",
              "      <td>0.504967</td>\n",
              "      <td>0.345642</td>\n",
              "      <td>0.749133</td>\n",
              "    </tr>\n",
              "    <tr>\n",
              "      <th>2021-01-04</th>\n",
              "      <td>0.646094</td>\n",
              "      <td>0.302543</td>\n",
              "      <td>0.921970</td>\n",
              "      <td>0.379108</td>\n",
              "    </tr>\n",
              "    <tr>\n",
              "      <th>2021-01-05</th>\n",
              "      <td>0.787509</td>\n",
              "      <td>0.794124</td>\n",
              "      <td>0.594605</td>\n",
              "      <td>0.025391</td>\n",
              "    </tr>\n",
              "    <tr>\n",
              "      <th>2021-01-06</th>\n",
              "      <td>0.158588</td>\n",
              "      <td>0.427286</td>\n",
              "      <td>0.231098</td>\n",
              "      <td>0.226875</td>\n",
              "    </tr>\n",
              "  </tbody>\n",
              "</table>\n",
              "</div>"
            ],
            "text/plain": [
              "                   A         B         C         D\n",
              "2021-01-01  0.678475  0.534713  0.043140  0.968187\n",
              "2021-01-02  0.286295  0.509440  0.540790  0.654447\n",
              "2021-01-03  0.197573  0.504967  0.345642  0.749133\n",
              "2021-01-04  0.646094  0.302543  0.921970  0.379108\n",
              "2021-01-05  0.787509  0.794124  0.594605  0.025391\n",
              "2021-01-06  0.158588  0.427286  0.231098  0.226875"
            ]
          },
          "metadata": {},
          "execution_count": 1
        }
      ]
    }
  ]
}