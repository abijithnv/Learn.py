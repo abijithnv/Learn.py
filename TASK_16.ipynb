{
  "nbformat": 4,
  "nbformat_minor": 0,
  "metadata": {
    "colab": {
      "name": "TASK 16.ipynb",
      "provenance": []
    },
    "kernelspec": {
      "name": "python3",
      "display_name": "Python 3"
    },
    "language_info": {
      "name": "python"
    }
  },
  "cells": [
    {
      "cell_type": "markdown",
      "metadata": {
        "id": "acyipYglJ670"
      },
      "source": [
        "1. Given index=[\"India\",\"Pakistan\",\"Bangladesh\",\"Srilanka\",\"china\",\"Nepal\"] and data=[1,3,5,np.nan,6,8] . Create a table with the \"index\" as indices and data as values.\n",
        "\n",
        "      Expected output\n",
        "\n",
        "        India         1.0\n",
        "        Pakistan      3.0\n",
        "        Bangladesh    5.0\n",
        "        Srilanka      NaN\n",
        "        China         6.0\n",
        "        Nepal         8.0\n",
        "        Name: myseries, dtype: float64"
      ]
    },
    {
      "cell_type": "code",
      "metadata": {
        "id": "lk5t2eNkKLwL",
        "colab": {
          "base_uri": "https://localhost:8080/"
        },
        "outputId": "e4dc3901-9465-4c2c-ca90-68c395149885"
      },
      "source": [
        "import pandas as pd \n",
        "import numpy as np\n",
        "data=[1,3,5,np.nan,6,8]\n",
        "index=[\"India\",\"Pakistan\",\"Bangladesh\",\"Srilanka\",\"china\",\"Nepal\"] \n",
        "dt = pd.Series(data, index)\n",
        "dt"
      ],
      "execution_count": 20,
      "outputs": [
        {
          "output_type": "execute_result",
          "data": {
            "text/plain": [
              "India         1.0\n",
              "Pakistan      3.0\n",
              "Bangladesh    5.0\n",
              "Srilanka      NaN\n",
              "china         6.0\n",
              "Nepal         8.0\n",
              "dtype: float64"
            ]
          },
          "metadata": {},
          "execution_count": 20
        }
      ]
    },
    {
      "cell_type": "markdown",
      "metadata": {
        "id": "inxiNv1rLveT"
      },
      "source": [
        "2. Create a data 'dates' starting from 2021-01-01 with range 6. and create a random 6x4 array and a list=('ABCD').now create a dataframe with 'dates' as index and list as the column and data as the datas of this table.\n",
        "\n",
        "\n",
        "  Expected output\n",
        "\n",
        "                        A\t       B\t      C\t      D\n",
        "    2021-01-01\t-0.429358\t0.779826\t0.389625\t0.248792\n",
        "    2021-01-02\t-1.044721\t0.272807\t-0.370437\t1.177273\n",
        "    2021-01-03\t-0.961394\t-0.525376\t0.120843\t0.470060\n",
        "    2021-01-04\t1.842266\t-0.551049\t0.588390\t-0.326937\n",
        "    2021-01-05\t0.986198\t0.391301\t-0.084837\t-0.855573\n",
        "    2021-01-06\t-1.531207\t0.905463\t-0.099024\t0.589219\n",
        "\n"
      ]
    },
    {
      "cell_type": "code",
      "metadata": {
        "id": "TZYBxFJIRYVm",
        "colab": {
          "base_uri": "https://localhost:8080/",
          "height": 391
        },
        "outputId": "991a864d-b623-45dc-e6e6-83611e8b93cb"
      },
      "source": [
        "import numpy as np \n",
        " \n",
        "import pandas as pd \n",
        " \n",
        " \n",
        "arr = np.random.rand(24).reshape(6, 4)\n",
        "list=[\"A\",\"B\",\"C\",\"D\"]\n",
        "date=pd.date_range(start=\"2021-01-01\",periods=6)\n",
        " \n",
        "df = pd.DataFrame(arr, columns =list,index=date) \n",
        " \n",
        "print(\"\\nPandas DataFrame: \") \n",
        " \n",
        "df"
      ],
      "execution_count": 23,
      "outputs": [
        {
          "output_type": "stream",
          "text": [
            "\n",
            "Pandas DataFrame: \n"
          ],
          "name": "stdout"
        },
        {
          "output_type": "execute_result",
          "data": {
            "text/html": [
              "<div>\n",
              "<style scoped>\n",
              "    .dataframe tbody tr th:only-of-type {\n",
              "        vertical-align: middle;\n",
              "    }\n",
              "\n",
              "    .dataframe tbody tr th {\n",
              "        vertical-align: top;\n",
              "    }\n",
              "\n",
              "    .dataframe thead th {\n",
              "        text-align: right;\n",
              "    }\n",
              "</style>\n",
              "<table border=\"1\" class=\"dataframe\">\n",
              "  <thead>\n",
              "    <tr style=\"text-align: right;\">\n",
              "      <th></th>\n",
              "      <th>A</th>\n",
              "      <th>B</th>\n",
              "      <th>C</th>\n",
              "      <th>D</th>\n",
              "    </tr>\n",
              "  </thead>\n",
              "  <tbody>\n",
              "    <tr>\n",
              "      <th>2021-01-01</th>\n",
              "      <td>0.403170</td>\n",
              "      <td>0.789040</td>\n",
              "      <td>0.893444</td>\n",
              "      <td>0.922276</td>\n",
              "    </tr>\n",
              "    <tr>\n",
              "      <th>2021-01-02</th>\n",
              "      <td>0.224260</td>\n",
              "      <td>0.265959</td>\n",
              "      <td>0.376250</td>\n",
              "      <td>0.977364</td>\n",
              "    </tr>\n",
              "    <tr>\n",
              "      <th>2021-01-03</th>\n",
              "      <td>0.873961</td>\n",
              "      <td>0.392685</td>\n",
              "      <td>0.917655</td>\n",
              "      <td>0.234157</td>\n",
              "    </tr>\n",
              "    <tr>\n",
              "      <th>2021-01-04</th>\n",
              "      <td>0.970518</td>\n",
              "      <td>0.750307</td>\n",
              "      <td>0.913116</td>\n",
              "      <td>0.858269</td>\n",
              "    </tr>\n",
              "    <tr>\n",
              "      <th>2021-01-05</th>\n",
              "      <td>0.790516</td>\n",
              "      <td>0.588616</td>\n",
              "      <td>0.364458</td>\n",
              "      <td>0.142756</td>\n",
              "    </tr>\n",
              "    <tr>\n",
              "      <th>2021-01-06</th>\n",
              "      <td>0.065594</td>\n",
              "      <td>0.671069</td>\n",
              "      <td>0.640070</td>\n",
              "      <td>0.765122</td>\n",
              "    </tr>\n",
              "  </tbody>\n",
              "</table>\n",
              "</div>"
            ],
            "text/plain": [
              "                   A         B         C         D\n",
              "2021-01-01  0.403170  0.789040  0.893444  0.922276\n",
              "2021-01-02  0.224260  0.265959  0.376250  0.977364\n",
              "2021-01-03  0.873961  0.392685  0.917655  0.234157\n",
              "2021-01-04  0.970518  0.750307  0.913116  0.858269\n",
              "2021-01-05  0.790516  0.588616  0.364458  0.142756\n",
              "2021-01-06  0.065594  0.671069  0.640070  0.765122"
            ]
          },
          "metadata": {},
          "execution_count": 23
        }
      ]
    }
  ]
}