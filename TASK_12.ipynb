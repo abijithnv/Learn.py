{
  "nbformat": 4,
  "nbformat_minor": 0,
  "metadata": {
    "colab": {
      "name": "TASK 12.ipynb",
      "provenance": [],
      "include_colab_link": true
    },
    "kernelspec": {
      "name": "python3",
      "display_name": "Python 3"
    },
    "language_info": {
      "name": "python"
    }
  },
  "cells": [
    {
      "cell_type": "markdown",
      "metadata": {
        "id": "view-in-github",
        "colab_type": "text"
      },
      "source": [
        "<a href=\"https://colab.research.google.com/github/abijithnv/Learn.py/blob/main/TASK_12.ipynb\" target=\"_parent\"><img src=\"https://colab.research.google.com/assets/colab-badge.svg\" alt=\"Open In Colab\"/></a>"
      ]
    },
    {
      "cell_type": "markdown",
      "metadata": {
        "id": "i9LeFsII-SAQ"
      },
      "source": [
        "1. Create an 4x4 array with elements ranging from 0-15. And find the trace of the array."
      ]
    },
    {
      "cell_type": "code",
      "metadata": {
        "id": "eT1ymGjZ-pOZ",
        "colab": {
          "base_uri": "https://localhost:8080/"
        },
        "outputId": "1c14c94c-d106-4f5d-efc3-07b3fc6a63d5"
      },
      "source": [
        "import numpy as np\n",
        " \n",
        "arr=np.arange(0,16)\n",
        "arr2=arr.reshape(4,4)\n",
        "trace=np.trace(arr2)\n",
        "print (trace)"
      ],
      "execution_count": 1,
      "outputs": [
        {
          "output_type": "stream",
          "text": [
            "30\n"
          ],
          "name": "stdout"
        }
      ]
    },
    {
      "cell_type": "markdown",
      "metadata": {
        "id": "Hw69FYds-zww"
      },
      "source": [
        "2. Create a matrix with elements [6,1,1],[4,-2,5],[2,8,7].Now find the inverse this matrix."
      ]
    },
    {
      "cell_type": "code",
      "metadata": {
        "id": "IAhA-qIwAoxs",
        "colab": {
          "base_uri": "https://localhost:8080/"
        },
        "outputId": "47687a69-7b45-4b82-9c4a-cb460f7071f2"
      },
      "source": [
        " import numpy as np\n",
        " \n",
        "arr = np.array([[6, 1, 1], [4, -2, 5],[2,8,7] ])\n",
        "print(arr)\n",
        "print(np.linalg.inv(arr))"
      ],
      "execution_count": 2,
      "outputs": [
        {
          "output_type": "stream",
          "text": [
            "[[ 6  1  1]\n",
            " [ 4 -2  5]\n",
            " [ 2  8  7]]\n",
            "[[ 0.17647059 -0.00326797 -0.02287582]\n",
            " [ 0.05882353 -0.13071895  0.08496732]\n",
            " [-0.11764706  0.1503268   0.05228758]]\n"
          ],
          "name": "stdout"
        }
      ]
    },
    {
      "cell_type": "markdown",
      "metadata": {
        "id": "6B6aJDFKAz0B"
      },
      "source": [
        "3. Create an 3x3 array with elements ranging from 0-8. And find the norm this array."
      ]
    },
    {
      "cell_type": "code",
      "metadata": {
        "id": "49RVb-g3CXSk",
        "colab": {
          "base_uri": "https://localhost:8080/"
        },
        "outputId": "46b712b2-fe7a-454f-89c4-526742b5d03e"
      },
      "source": [
        " import numpy as np\n",
        " \n",
        "arr=np.arange(0,9)\n",
        "arr2=arr.reshape(3,3)\n",
        "norm=np.linalg.norm(arr2)\n",
        "print(norm)"
      ],
      "execution_count": 3,
      "outputs": [
        {
          "output_type": "stream",
          "text": [
            "14.2828568570857\n"
          ],
          "name": "stdout"
        }
      ]
    },
    {
      "cell_type": "markdown",
      "metadata": {
        "id": "pGKEu4lxDCJK"
      },
      "source": [
        "4. Create a 4x4 array whose value ranging from 0-15.And find the eigenvalues and eigenvectors of this array."
      ]
    },
    {
      "cell_type": "code",
      "metadata": {
        "id": "dyymkid0DTth",
        "colab": {
          "base_uri": "https://localhost:8080/"
        },
        "outputId": "7c5ac244-032f-4429-9f20-1886c5ea0883"
      },
      "source": [
        "import numpy as np\n",
        " \n",
        "arr=np.arange(0,16)\n",
        "arr2=arr.reshape(4,4)\n",
        "val,vec=np.linalg.eig(arr2)\n",
        "print(\"Eigen values :\\n\",val)\n",
        "print (\"Eigen vector :\\n\",vec)"
      ],
      "execution_count": 4,
      "outputs": [
        {
          "output_type": "stream",
          "text": [
            "Eigen values :\n",
            " [ 3.24642492e+01 -2.46424920e+00  2.55670932e-15 -1.93389056e-16]\n",
            "Eigen vector :\n",
            " [[-0.11417645  0.7327781  -0.54471271  0.09683789]\n",
            " [-0.3300046   0.28974835  0.76902356  0.27269982]\n",
            " [-0.54583275 -0.15328139  0.09609099 -0.8359133 ]\n",
            " [-0.76166089 -0.59631113 -0.32040185  0.46637559]]\n"
          ],
          "name": "stdout"
        }
      ]
    }
  ]
}