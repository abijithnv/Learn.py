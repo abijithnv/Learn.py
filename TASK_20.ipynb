{
  "nbformat": 4,
  "nbformat_minor": 0,
  "metadata": {
    "colab": {
      "name": "TASK 20.ipynb",
      "provenance": [],
      "include_colab_link": true
    },
    "kernelspec": {
      "name": "python3",
      "display_name": "Python 3"
    },
    "language_info": {
      "name": "python"
    }
  },
  "cells": [
    {
      "cell_type": "markdown",
      "metadata": {
        "id": "view-in-github",
        "colab_type": "text"
      },
      "source": [
        "<a href=\"https://colab.research.google.com/github/abijithnv/Learn.py/blob/main/TASK_20.ipynb\" target=\"_parent\"><img src=\"https://colab.research.google.com/assets/colab-badge.svg\" alt=\"Open In Colab\"/></a>"
      ]
    },
    {
      "cell_type": "markdown",
      "metadata": {
        "id": "8LIfdcjDWmC3"
      },
      "source": [
        "1. In the data given below,\n",
        "  - find the boolean mask where value is nan\n",
        "  - remove the row with missing data.\n"
      ]
    },
    {
      "cell_type": "markdown",
      "metadata": {
        "id": "VPCGISRTbYPz"
      },
      "source": [
        ""
      ]
    },
    {
      "cell_type": "code",
      "metadata": {
        "colab": {
          "base_uri": "https://localhost:8080/"
        },
        "id": "VsZQYRqXXHpG",
        "outputId": "c5284ed4-f1c7-489b-c88a-d0f309e919cd"
      },
      "source": [
        "import pandas as pd\n",
        "import numpy as np\n",
        "dates = pd.date_range('20210101',periods=6)\n",
        "df = pd.DataFrame(np.random.randn(6,4), index=dates,columns=list('ABCD'))\n",
        "s1 = pd.Series([1,2,3,4,5,6], index=pd.date_range('20130102', periods=6))\n",
        "df[\"F\"]=s1\n",
        "df1=df.reindex(index=dates[0:4], columns=list(df.columns) + ['E'])\n",
        "df1.loc[dates[0]:dates[1],'E'] = 1\n",
        "df1\n",
        "#please provide your answer below this line\n",
        "print(df1)\n",
        "print(\"\\nboolean mask where value is nan:\\n\",df1.isnull())\n",
        "print(\"\\nRemoving the row with missing data:\\n\",df1.dropna())"
      ],
      "execution_count": 1,
      "outputs": [
        {
          "output_type": "stream",
          "name": "stdout",
          "text": [
            "                   A         B         C         D   F    E\n",
            "2021-01-01  0.493713 -0.831135 -0.838158  0.604381 NaN  1.0\n",
            "2021-01-02  0.206174  1.426123  2.123344  0.468594 NaN  1.0\n",
            "2021-01-03  0.524510  0.929637  0.051027  1.141903 NaN  NaN\n",
            "2021-01-04  0.802472  0.755796  1.711945  0.836712 NaN  NaN\n",
            "\n",
            "boolean mask where value is nan:\n",
            "                 A      B      C      D     F      E\n",
            "2021-01-01  False  False  False  False  True  False\n",
            "2021-01-02  False  False  False  False  True  False\n",
            "2021-01-03  False  False  False  False  True   True\n",
            "2021-01-04  False  False  False  False  True   True\n",
            "\n",
            "Removing the row with missing data:\n",
            " Empty DataFrame\n",
            "Columns: [A, B, C, D, F, E]\n",
            "Index: []\n"
          ]
        }
      ]
    },
    {
      "cell_type": "markdown",
      "metadata": {
        "id": "z1sv0aluZhcd"
      },
      "source": [
        "2. In the data given below,fill the missing data with 20."
      ]
    },
    {
      "cell_type": "code",
      "metadata": {
        "colab": {
          "base_uri": "https://localhost:8080/"
        },
        "id": "x3ZHFCeyZ0j2",
        "outputId": "322e500e-4799-493b-984b-7df9108c93df"
      },
      "source": [
        "import pandas as pd\n",
        "import numpy as np\n",
        "dates = pd.date_range('20210101',periods=6)\n",
        "df = pd.DataFrame(np.random.randn(6,4), index=dates,columns=list('ABCD'))\n",
        "s1 = pd.Series([1,2,3,4,5,6], index=pd.date_range('20130102', periods=6))\n",
        "df[\"F\"]=s1\n",
        "df1=df.reindex(index=dates[0:4], columns=list(df.columns) + ['E'])\n",
        "df1.loc[dates[0]:dates[1],'E'] = 1\n",
        "df1\n",
        "#please provide your answer below this line\n",
        "print(df1)\n",
        "print(\"\\nFilling the missing data with 20:\\n\",df1.fillna(value = 20))"
      ],
      "execution_count": 2,
      "outputs": [
        {
          "output_type": "stream",
          "name": "stdout",
          "text": [
            "                   A         B         C         D   F    E\n",
            "2021-01-01 -0.340112 -2.521071 -1.381559 -0.896829 NaN  1.0\n",
            "2021-01-02 -0.654249  1.105427  1.362616 -0.120892 NaN  1.0\n",
            "2021-01-03 -1.344198  0.167666  0.585834 -0.125436 NaN  NaN\n",
            "2021-01-04  0.689980  0.599275 -0.524997 -0.294373 NaN  NaN\n",
            "\n",
            "Filling the missing data with 20:\n",
            "                    A         B         C         D     F     E\n",
            "2021-01-01 -0.340112 -2.521071 -1.381559 -0.896829  20.0   1.0\n",
            "2021-01-02 -0.654249  1.105427  1.362616 -0.120892  20.0   1.0\n",
            "2021-01-03 -1.344198  0.167666  0.585834 -0.125436  20.0  20.0\n",
            "2021-01-04  0.689980  0.599275 -0.524997 -0.294373  20.0  20.0\n"
          ]
        }
      ]
    },
    {
      "cell_type": "markdown",
      "metadata": {
        "id": "vMzwvpxcZ3G8"
      },
      "source": [
        "3. From the data given below,\n",
        "  - break the data in to pieces from 0 t0 2 ,3 t0 7\n",
        "  - concatenate the pieces.\n",
        "  - concatenate the pieces along axis 1\n",
        "  - label each as 'a' and 'b' respectively and perform concatenation."
      ]
    },
    {
      "cell_type": "code",
      "metadata": {
        "colab": {
          "base_uri": "https://localhost:8080/"
        },
        "id": "LxGwKPTVbbXV",
        "outputId": "270813fc-b576-4ce9-c574-51ec0ee9bcaf"
      },
      "source": [
        "import pandas as pd\n",
        "import numpy as np\n",
        "df = pd.DataFrame(np.random.randn(10, 4))\n",
        "df\n",
        "#please provide your answer below this line\n",
        "print(df)\n",
        "pieces = [df[:3],df[3:8]]\n",
        "print(\"\\nPieces of data from 0 to 2 ,3 to 7:\\n\",pieces[0],\"\\n\",pieces[1])\n",
        "print(\"\\nConcatenated pieces:\\n\",pd.concat(pieces))\n",
        "print(\"\\nconcatenate the pieces along axis 1:\\n\",pd.concat(pieces, axis = 1))\n",
        "a = pieces[0]\n",
        "b = pieces[1]\n",
        "print(\"\\nConcatination of a and b:\\n\",pd.concat([a,b]))"
      ],
      "execution_count": 4,
      "outputs": [
        {
          "output_type": "stream",
          "name": "stdout",
          "text": [
            "          0         1         2         3\n",
            "0 -0.410091 -1.221433  0.792464 -1.249307\n",
            "1 -0.650544 -0.732656  1.160483  3.108850\n",
            "2  1.296203 -1.331232  1.262920 -0.704364\n",
            "3  0.500751  0.537356 -0.283964 -0.544698\n",
            "4  0.335159  0.828688  0.515039  0.203578\n",
            "5  0.171450  0.155905  0.893360  0.530567\n",
            "6 -0.678515  0.582026  1.257572  0.483472\n",
            "7 -0.319900 -0.371608  0.547546  0.562896\n",
            "8 -1.381746  1.017000  1.324151  1.826833\n",
            "9  0.020685 -0.340858  0.833417  0.835873\n",
            "\n",
            "Pieces of data from 0 to 2 ,3 to 7:\n",
            "           0         1         2         3\n",
            "0 -0.410091 -1.221433  0.792464 -1.249307\n",
            "1 -0.650544 -0.732656  1.160483  3.108850\n",
            "2  1.296203 -1.331232  1.262920 -0.704364 \n",
            "           0         1         2         3\n",
            "3  0.500751  0.537356 -0.283964 -0.544698\n",
            "4  0.335159  0.828688  0.515039  0.203578\n",
            "5  0.171450  0.155905  0.893360  0.530567\n",
            "6 -0.678515  0.582026  1.257572  0.483472\n",
            "7 -0.319900 -0.371608  0.547546  0.562896\n",
            "\n",
            "Concatenated pieces:\n",
            "           0         1         2         3\n",
            "0 -0.410091 -1.221433  0.792464 -1.249307\n",
            "1 -0.650544 -0.732656  1.160483  3.108850\n",
            "2  1.296203 -1.331232  1.262920 -0.704364\n",
            "3  0.500751  0.537356 -0.283964 -0.544698\n",
            "4  0.335159  0.828688  0.515039  0.203578\n",
            "5  0.171450  0.155905  0.893360  0.530567\n",
            "6 -0.678515  0.582026  1.257572  0.483472\n",
            "7 -0.319900 -0.371608  0.547546  0.562896\n",
            "\n",
            "concatenate the pieces along axis 1:\n",
            "           0         1         2  ...         1         2         3\n",
            "0 -0.410091 -1.221433  0.792464  ...       NaN       NaN       NaN\n",
            "1 -0.650544 -0.732656  1.160483  ...       NaN       NaN       NaN\n",
            "2  1.296203 -1.331232  1.262920  ...       NaN       NaN       NaN\n",
            "3       NaN       NaN       NaN  ...  0.537356 -0.283964 -0.544698\n",
            "4       NaN       NaN       NaN  ...  0.828688  0.515039  0.203578\n",
            "5       NaN       NaN       NaN  ...  0.155905  0.893360  0.530567\n",
            "6       NaN       NaN       NaN  ...  0.582026  1.257572  0.483472\n",
            "7       NaN       NaN       NaN  ... -0.371608  0.547546  0.562896\n",
            "\n",
            "[8 rows x 8 columns]\n",
            "\n",
            "Concatination of a and b:\n",
            "           0         1         2         3\n",
            "0 -0.410091 -1.221433  0.792464 -1.249307\n",
            "1 -0.650544 -0.732656  1.160483  3.108850\n",
            "2  1.296203 -1.331232  1.262920 -0.704364\n",
            "3  0.500751  0.537356 -0.283964 -0.544698\n",
            "4  0.335159  0.828688  0.515039  0.203578\n",
            "5  0.171450  0.155905  0.893360  0.530567\n",
            "6 -0.678515  0.582026  1.257572  0.483472\n",
            "7 -0.319900 -0.371608  0.547546  0.562896\n"
          ]
        }
      ]
    },
    {
      "cell_type": "code",
      "metadata": {
        "id": "h290MAgudPQI"
      },
      "source": [
        ""
      ],
      "execution_count": null,
      "outputs": []
    }
  ]
}