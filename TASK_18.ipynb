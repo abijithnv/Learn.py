{
  "nbformat": 4,
  "nbformat_minor": 0,
  "metadata": {
    "colab": {
      "name": "TASK 18.ipynb",
      "provenance": [],
      "include_colab_link": true
    },
    "kernelspec": {
      "name": "python3",
      "display_name": "Python 3"
    },
    "language_info": {
      "name": "python"
    }
  },
  "cells": [
    {
      "cell_type": "markdown",
      "metadata": {
        "id": "view-in-github",
        "colab_type": "text"
      },
      "source": [
        "<a href=\"https://colab.research.google.com/github/abijithnv/Learn.py/blob/main/TASK_18.ipynb\" target=\"_parent\"><img src=\"https://colab.research.google.com/assets/colab-badge.svg\" alt=\"Open In Colab\"/></a>"
      ]
    },
    {
      "cell_type": "markdown",
      "metadata": {
        "id": "_JgXT8pEAjU4"
      },
      "source": [
        "1. \n",
        "Create a DataFrame by passing a random numpy array,with a datetie index and labelled columns.and,\n",
        "    - slice its first three rows and display.\n",
        "    - slice its odd indexed rows.\n",
        "    - display the dates from 1st postion to 4 th position."
      ]
    },
    {
      "cell_type": "code",
      "metadata": {
        "id": "5zFM5VOJBKBV",
        "colab": {
          "base_uri": "https://localhost:8080/"
        },
        "outputId": "605b2af7-8e64-4a2e-8e34-aaacb1d88f5a"
      },
      "source": [
        "import numpy as np\n",
        "import pandas as pd\n",
        "datetie = pd.date_range('2021-08-24',periods=8)\n",
        "df = pd.DataFrame(np.random.randn(8,6), index=datetie, columns=list('ABCDEF'))\n",
        "print(\"First three rows:\\n\",df.iloc[0:3])\n",
        "print(\"\\nOdd indexed rows:\\n\",df.iloc[1::2])\n",
        "print(\"\\n1st postion to 4 th position:\\n\",df.iloc[1:5])"
      ],
      "execution_count": 1,
      "outputs": [
        {
          "output_type": "stream",
          "name": "stdout",
          "text": [
            "First three rows:\n",
            "                    A         B         C         D         E         F\n",
            "2021-08-24  0.231921  0.273112  0.200097  0.031475  0.423856 -1.941675\n",
            "2021-08-25  1.048158  0.122537 -0.936347 -0.032388  2.396994 -0.438222\n",
            "2021-08-26  1.116066  0.748966  1.912251  0.507255 -1.320252  1.316778\n",
            "\n",
            "Odd indexed rows:\n",
            "                    A         B         C         D         E         F\n",
            "2021-08-25  1.048158  0.122537 -0.936347 -0.032388  2.396994 -0.438222\n",
            "2021-08-27  0.699495 -0.865460 -0.503725  0.211369  0.830128  1.279406\n",
            "2021-08-29  0.695260  0.246642 -1.394849  0.006465  1.107385  0.865037\n",
            "2021-08-31 -0.465862  0.987563 -1.598845  2.391856  1.007773  0.012367\n",
            "\n",
            "1st postion to 4 th position:\n",
            "                    A         B         C         D         E         F\n",
            "2021-08-25  1.048158  0.122537 -0.936347 -0.032388  2.396994 -0.438222\n",
            "2021-08-26  1.116066  0.748966  1.912251  0.507255 -1.320252  1.316778\n",
            "2021-08-27  0.699495 -0.865460 -0.503725  0.211369  0.830128  1.279406\n",
            "2021-08-28  0.113501 -2.134399 -0.462123 -0.189482  1.233279 -1.086684\n"
          ]
        }
      ]
    },
    {
      "cell_type": "markdown",
      "metadata": {
        "id": "QuoucvjxBPmX"
      },
      "source": [
        "2. Create a DataFrame by passing a random numpy array,with a datetie index and labelled columns.and\n",
        "  - Dislplay the index from the 1 to 3 date and the columns A and B of respective data.\n",
        "  - Display the datas at the 3rd index.\n",
        "  - Display datas from 2nd to 5th.\n",
        "  - Display the datas from the index 1,2,4 and the column 0 and 2."
      ]
    },
    {
      "cell_type": "code",
      "metadata": {
        "id": "qV_wzsp1DUKI",
        "colab": {
          "base_uri": "https://localhost:8080/"
        },
        "outputId": "3f507ba4-15d0-4e1d-d444-c80895f97685"
      },
      "source": [
        "import numpy as np\n",
        "import pandas as pd\n",
        "datetie = pd.date_range('2021-08-24',periods=8)\n",
        "df = pd.DataFrame(np.random.randn(8,6), index=datetie, columns=list('ABCDEF'))\n",
        "print(\"Index 1 to 3 date and the columns A and B:\\n\",df.iloc[0:3,0:2])\n",
        "print(\"\\nDatas at the 3rd index:\\n\",df.iloc[3:4])\n",
        "print(\"\\nDatas from 2nd to 5th:\\n\",df.iloc[2:6])\n",
        "print(\"\\nDatas from the index 1,2,4 and the column 0 and 2:\\n\",df.iloc[[1,2,4],[0,2]])"
      ],
      "execution_count": 2,
      "outputs": [
        {
          "output_type": "stream",
          "name": "stdout",
          "text": [
            "Index 1 to 3 date and the columns A and B:\n",
            "                    A         B\n",
            "2021-08-24 -0.800362  0.175672\n",
            "2021-08-25  2.113252  1.195368\n",
            "2021-08-26  2.285359  0.559615\n",
            "\n",
            "Datas at the 3rd index:\n",
            "                    A         B         C         D         E         F\n",
            "2021-08-27 -0.421337 -1.232434  0.189076 -0.873441 -1.893889  1.399441\n",
            "\n",
            "Datas from 2nd to 5th:\n",
            "                    A         B         C         D         E         F\n",
            "2021-08-26  2.285359  0.559615  0.818745 -2.362877 -1.549506 -0.831520\n",
            "2021-08-27 -0.421337 -1.232434  0.189076 -0.873441 -1.893889  1.399441\n",
            "2021-08-28  1.022093  0.404480  0.857859  0.406698 -1.919131 -1.661680\n",
            "2021-08-29  1.130757 -1.557547  0.052955  2.259533 -1.011891 -0.942262\n",
            "\n",
            "Datas from the index 1,2,4 and the column 0 and 2:\n",
            "                    A         C\n",
            "2021-08-25  2.113252  1.399480\n",
            "2021-08-26  2.285359  0.818745\n",
            "2021-08-28  1.022093  0.857859\n"
          ]
        }
      ]
    }
  ]
}